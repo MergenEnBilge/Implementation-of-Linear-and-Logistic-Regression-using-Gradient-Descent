{
 "cells": [
  {
   "cell_type": "markdown",
   "metadata": {},
   "source": [
    "<h1>Linear Regression</h1>"
   ]
  },
  {
   "cell_type": "code",
   "execution_count": 274,
   "metadata": {},
   "outputs": [],
   "source": [
    "#General Libraries required for linear & logistic regression.\n",
    "import pandas as pd\n",
    "import numpy as np\n",
    "import linear_models as lm #Our custom Implementation of Linear Regression\n",
    "import matplotlib.pyplot as plt\n",
    "\n",
    "#Specific for Linear Regression Dataset\n",
    "from sklearn.datasets import fetch_california_housing\n",
    "from sklearn.model_selection import train_test_split\n",
    "from sklearn.metrics import mean_squared_error"
   ]
  },
  {
   "cell_type": "code",
   "execution_count": 275,
   "metadata": {},
   "outputs": [],
   "source": [
    "data = fetch_california_housing()\n",
    "X = data.data\n",
    "y = data.target"
   ]
  },
  {
   "cell_type": "code",
   "execution_count": 276,
   "metadata": {},
   "outputs": [
    {
     "data": {
      "text/plain": [
       "array([[   8.3252    ,   41.        ,    6.98412698, ...,    2.55555556,\n",
       "          37.88      , -122.23      ],\n",
       "       [   8.3014    ,   21.        ,    6.23813708, ...,    2.10984183,\n",
       "          37.86      , -122.22      ],\n",
       "       [   7.2574    ,   52.        ,    8.28813559, ...,    2.80225989,\n",
       "          37.85      , -122.24      ],\n",
       "       ...,\n",
       "       [   1.7       ,   17.        ,    5.20554273, ...,    2.3256351 ,\n",
       "          39.43      , -121.22      ],\n",
       "       [   1.8672    ,   18.        ,    5.32951289, ...,    2.12320917,\n",
       "          39.43      , -121.32      ],\n",
       "       [   2.3886    ,   16.        ,    5.25471698, ...,    2.61698113,\n",
       "          39.37      , -121.24      ]])"
      ]
     },
     "execution_count": 276,
     "metadata": {},
     "output_type": "execute_result"
    }
   ],
   "source": [
    "X"
   ]
  },
  {
   "cell_type": "code",
   "execution_count": 277,
   "metadata": {},
   "outputs": [
    {
     "data": {
      "text/plain": [
       "array([4.526, 3.585, 3.521, ..., 0.923, 0.847, 0.894])"
      ]
     },
     "execution_count": 277,
     "metadata": {},
     "output_type": "execute_result"
    }
   ],
   "source": [
    "y"
   ]
  },
  {
   "cell_type": "code",
   "execution_count": 278,
   "metadata": {},
   "outputs": [
    {
     "data": {
      "text/plain": [
       "['MedInc',\n",
       " 'HouseAge',\n",
       " 'AveRooms',\n",
       " 'AveBedrms',\n",
       " 'Population',\n",
       " 'AveOccup',\n",
       " 'Latitude',\n",
       " 'Longitude']"
      ]
     },
     "execution_count": 278,
     "metadata": {},
     "output_type": "execute_result"
    }
   ],
   "source": [
    "data.feature_names"
   ]
  },
  {
   "cell_type": "code",
   "execution_count": 279,
   "metadata": {},
   "outputs": [],
   "source": [
    "X_train, X_test, y_train, y_test = train_test_split(X, y, test_size=0.2, random_state=42)\n",
    "model = lm.LinearRegression(\n",
    "    iterations=30000, \n",
    "    learning_rate=0.01, \n",
    "    dim=X_train.shape[1], \n",
    "    reg_var=0.1, \n",
    "    epsilon=1e-8\n",
    ")"
   ]
  },
  {
   "cell_type": "code",
   "execution_count": 280,
   "metadata": {},
   "outputs": [
    {
     "name": "stdout",
     "output_type": "stream",
     "text": [
      "Iteration 0: Cost = 2.7649865665189943\n",
      "Iteration 100: Cost = 0.6452974003771038\n",
      "Iteration 200: Cost = 0.3551161671535587\n",
      "Iteration 300: Cost = 0.30936795275017176\n",
      "Iteration 400: Cost = 0.2976255349233964\n",
      "Iteration 500: Cost = 0.2913759981042677\n",
      "Iteration 600: Cost = 0.28658652929110534\n",
      "Iteration 700: Cost = 0.2825853837879368\n",
      "Iteration 800: Cost = 0.2791873305370811\n",
      "Iteration 900: Cost = 0.2762914347084965\n",
      "Iteration 1000: Cost = 0.27382083962237247\n",
      "Iteration 1100: Cost = 0.2717118043062841\n",
      "Iteration 1200: Cost = 0.2699104767601351\n",
      "Iteration 1300: Cost = 0.26837116129315003\n",
      "Iteration 1400: Cost = 0.2670550349433844\n",
      "Iteration 1500: Cost = 0.265929097438012\n",
      "Iteration 1600: Cost = 0.26496528931863295\n",
      "Iteration 1700: Cost = 0.2641397459467898\n",
      "Iteration 1800: Cost = 0.26343216510917694\n",
      "Iteration 1900: Cost = 0.26282527054825194\n",
      "Iteration 2000: Cost = 0.26230435673929375\n",
      "Iteration 2100: Cost = 0.26185690254774974\n",
      "Iteration 2200: Cost = 0.26147224330296864\n",
      "Iteration 2300: Cost = 0.26114129242163925\n",
      "Iteration 2400: Cost = 0.26085630506418983\n",
      "Iteration 2500: Cost = 0.26061067745068406\n",
      "Iteration 2600: Cost = 0.2603987764316773\n",
      "Iteration 2700: Cost = 0.2602157947308322\n",
      "Iteration 2800: Cost = 0.2600576279724024\n",
      "Iteration 2900: Cost = 0.2599207701970192\n",
      "Iteration 3000: Cost = 0.2598022250697211\n",
      "Iteration 3100: Cost = 0.25969943040853477\n",
      "Iteration 3200: Cost = 0.2596101940217314\n",
      "Iteration 3300: Cost = 0.25953263914699215\n",
      "Iteration 3400: Cost = 0.2594651580444361\n",
      "Iteration 3500: Cost = 0.25940637251486776\n",
      "Iteration 3600: Cost = 0.2593551003006629\n",
      "Iteration 3700: Cost = 0.2593103264845166\n",
      "Iteration 3800: Cost = 0.2592711791351165\n",
      "Iteration 3900: Cost = 0.2592369085623274\n",
      "Iteration 4000: Cost = 0.25920686964077666\n",
      "Iteration 4100: Cost = 0.25918050674241416\n",
      "Iteration 4200: Cost = 0.25915734088793463\n",
      "Iteration 4300: Cost = 0.2591369587857488\n",
      "Iteration 4400: Cost = 0.2591190034770886\n",
      "Iteration 4500: Cost = 0.2591031663481725\n",
      "Iteration 4600: Cost = 0.2590891803062959\n",
      "Iteration 4700: Cost = 0.2590768139472098\n",
      "Iteration 4800: Cost = 0.25906586656704644\n",
      "Iteration 4900: Cost = 0.2590561638940311\n",
      "Iteration 5000: Cost = 0.25904755443388644\n",
      "Iteration 5100: Cost = 0.2590399063386835\n",
      "Iteration 5200: Cost = 0.2590331047223605\n",
      "Iteration 5300: Cost = 0.2590270493575618\n",
      "Iteration 5400: Cost = 0.25902165269817184\n",
      "Iteration 5500: Cost = 0.2590168381801698\n",
      "Iteration 5600: Cost = 0.25901253876045444\n",
      "Iteration 5700: Cost = 0.2590086956592506\n",
      "Iteration 5800: Cost = 0.25900525727678325\n",
      "Iteration 5900: Cost = 0.25900217825922156\n",
      "Iteration 6000: Cost = 0.25899941869256243\n",
      "Iteration 6100: Cost = 0.25899694340625073\n",
      "Iteration 6200: Cost = 0.2589947213709882\n",
      "Iteration 6300: Cost = 0.25899272517745076\n",
      "Iteration 6400: Cost = 0.2589909305845586\n",
      "Iteration 6500: Cost = 0.2589893161275886\n",
      "Iteration 6600: Cost = 0.25898786277781993\n",
      "Iteration 6700: Cost = 0.2589865536465926\n",
      "Iteration 6800: Cost = 0.2589853737276843\n",
      "Iteration 6900: Cost = 0.2589843096727743\n",
      "Convergence at iteration 6911 with cost 0.2589841991769414\n",
      "Weights: [ 0.85842677  0.12384538 -0.30082823  0.34403713 -0.00188927 -0.04105196\n",
      " -0.88380989 -0.85715407]\n",
      "Bias: 2.071946937378628\n",
      "Mean Squared Error on Test Set: 0.5562046113659728\n"
     ]
    }
   ],
   "source": [
    "cost_history_lg = model.fit(X_train, y_train, normalize=True)\n",
    "\n",
    "print(\"Weights:\", model.w)\n",
    "print(\"Bias:\", model.b)\n",
    "predictions = model.predict(X_test)\n",
    "\n",
    "mse = mean_squared_error(y_test, predictions)\n",
    "print(f\"Mean Squared Error on Test Set: {mse}\")"
   ]
  },
  {
   "cell_type": "code",
   "execution_count": 281,
   "metadata": {},
   "outputs": [
    {
     "data": {
      "image/png": "[encoded data removed]",
      "text/plain": [
       "<Figure size 640x480 with 1 Axes>"
      ]
     },
     "metadata": {},
     "output_type": "display_data"
    }
   ],
   "source": [
    "plt.plot(cost_history_lg)\n",
    "\n",
    "plt.title(\"Cost Function vs Iterations\")\n",
    "plt.xlabel(\"Iterations\")\n",
    "plt.ylabel(\"Cost Function J(w,b)\")\n",
    "\n",
    "plt.show()"
   ]
  },
  {
   "cell_type": "markdown",
   "metadata": {},
   "source": [
    "<h1>Logistic Regression<h1>"
   ]
  },
  {
   "cell_type": "code",
   "execution_count": 282,
   "metadata": {},
   "outputs": [],
   "source": [
    "from sklearn.datasets import load_breast_cancer\n",
    "from sklearn.model_selection import train_test_split\n",
    "import numpy as np\n",
    "\n",
    "cancer = load_breast_cancer()\n",
    "X = cancer.data\n",
    "y = cancer.target"
   ]
  },
  {
   "cell_type": "code",
   "execution_count": 283,
   "metadata": {},
   "outputs": [
    {
     "data": {
      "text/plain": [
       "array([[1.799e+01, 1.038e+01, 1.228e+02, ..., 2.654e-01, 4.601e-01,\n",
       "        1.189e-01],\n",
       "       [2.057e+01, 1.777e+01, 1.329e+02, ..., 1.860e-01, 2.750e-01,\n",
       "        8.902e-02],\n",
       "       [1.969e+01, 2.125e+01, 1.300e+02, ..., 2.430e-01, 3.613e-01,\n",
       "        8.758e-02],\n",
       "       ...,\n",
       "       [1.660e+01, 2.808e+01, 1.083e+02, ..., 1.418e-01, 2.218e-01,\n",
       "        7.820e-02],\n",
       "       [2.060e+01, 2.933e+01, 1.401e+02, ..., 2.650e-01, 4.087e-01,\n",
       "        1.240e-01],\n",
       "       [7.760e+00, 2.454e+01, 4.792e+01, ..., 0.000e+00, 2.871e-01,\n",
       "        7.039e-02]])"
      ]
     },
     "execution_count": 283,
     "metadata": {},
     "output_type": "execute_result"
    }
   ],
   "source": [
    "X"
   ]
  },
  {
   "cell_type": "code",
   "execution_count": 284,
   "metadata": {},
   "outputs": [
    {
     "data": {
      "text/plain": [
       "array([0, 0, 0, 0, 0, 0, 0, 0, 0, 0, 0, 0, 0, 0, 0, 0, 0, 0, 0, 1, 1, 1,\n",
       "       0, 0, 0, 0, 0, 0, 0, 0, 0, 0, 0, 0, 0, 0, 0, 1, 0, 0, 0, 0, 0, 0,\n",
       "       0, 0, 1, 0, 1, 1, 1, 1, 1, 0, 0, 1, 0, 0, 1, 1, 1, 1, 0, 1, 0, 0,\n",
       "       1, 1, 1, 1, 0, 1, 0, 0, 1, 0, 1, 0, 0, 1, 1, 1, 0, 0, 1, 0, 0, 0,\n",
       "       1, 1, 1, 0, 1, 1, 0, 0, 1, 1, 1, 0, 0, 1, 1, 1, 1, 0, 1, 1, 0, 1,\n",
       "       1, 1, 1, 1, 1, 1, 1, 0, 0, 0, 1, 0, 0, 1, 1, 1, 0, 0, 1, 0, 1, 0,\n",
       "       0, 1, 0, 0, 1, 1, 0, 1, 1, 0, 1, 1, 1, 1, 0, 1, 1, 1, 1, 1, 1, 1,\n",
       "       1, 1, 0, 1, 1, 1, 1, 0, 0, 1, 0, 1, 1, 0, 0, 1, 1, 0, 0, 1, 1, 1,\n",
       "       1, 0, 1, 1, 0, 0, 0, 1, 0, 1, 0, 1, 1, 1, 0, 1, 1, 0, 0, 1, 0, 0,\n",
       "       0, 0, 1, 0, 0, 0, 1, 0, 1, 0, 1, 1, 0, 1, 0, 0, 0, 0, 1, 1, 0, 0,\n",
       "       1, 1, 1, 0, 1, 1, 1, 1, 1, 0, 0, 1, 1, 0, 1, 1, 0, 0, 1, 0, 1, 1,\n",
       "       1, 1, 0, 1, 1, 1, 1, 1, 0, 1, 0, 0, 0, 0, 0, 0, 0, 0, 0, 0, 0, 0,\n",
       "       0, 0, 1, 1, 1, 1, 1, 1, 0, 1, 0, 1, 1, 0, 1, 1, 0, 1, 0, 0, 1, 1,\n",
       "       1, 1, 1, 1, 1, 1, 1, 1, 1, 1, 1, 0, 1, 1, 0, 1, 0, 1, 1, 1, 1, 1,\n",
       "       1, 1, 1, 1, 1, 1, 1, 1, 1, 0, 1, 1, 1, 0, 1, 0, 1, 1, 1, 1, 0, 0,\n",
       "       0, 1, 1, 1, 1, 0, 1, 0, 1, 0, 1, 1, 1, 0, 1, 1, 1, 1, 1, 1, 1, 0,\n",
       "       0, 0, 1, 1, 1, 1, 1, 1, 1, 1, 1, 1, 1, 0, 0, 1, 0, 0, 0, 1, 0, 0,\n",
       "       1, 1, 1, 1, 1, 0, 1, 1, 1, 1, 1, 0, 1, 1, 1, 0, 1, 1, 0, 0, 1, 1,\n",
       "       1, 1, 1, 1, 0, 1, 1, 1, 1, 1, 1, 1, 0, 1, 1, 1, 1, 1, 0, 1, 1, 0,\n",
       "       1, 1, 1, 1, 1, 1, 1, 1, 1, 1, 1, 1, 0, 1, 0, 0, 1, 0, 1, 1, 1, 1,\n",
       "       1, 0, 1, 1, 0, 1, 0, 1, 1, 0, 1, 0, 1, 1, 1, 1, 1, 1, 1, 1, 0, 0,\n",
       "       1, 1, 1, 1, 1, 1, 0, 1, 1, 1, 1, 1, 1, 1, 1, 1, 1, 0, 1, 1, 1, 1,\n",
       "       1, 1, 1, 0, 1, 0, 1, 1, 0, 1, 1, 1, 1, 1, 0, 0, 1, 0, 1, 0, 1, 1,\n",
       "       1, 1, 1, 0, 1, 1, 0, 1, 0, 1, 0, 0, 1, 1, 1, 0, 1, 1, 1, 1, 1, 1,\n",
       "       1, 1, 1, 1, 1, 0, 1, 0, 0, 1, 1, 1, 1, 1, 1, 1, 1, 1, 1, 1, 1, 1,\n",
       "       1, 1, 1, 1, 1, 1, 1, 1, 1, 1, 1, 1, 0, 0, 0, 0, 0, 0, 1])"
      ]
     },
     "execution_count": 284,
     "metadata": {},
     "output_type": "execute_result"
    }
   ],
   "source": [
    "y"
   ]
  },
  {
   "cell_type": "code",
   "execution_count": 285,
   "metadata": {},
   "outputs": [
    {
     "data": {
      "text/plain": [
       "array(['mean radius', 'mean texture', 'mean perimeter', 'mean area',\n",
       "       'mean smoothness', 'mean compactness', 'mean concavity',\n",
       "       'mean concave points', 'mean symmetry', 'mean fractal dimension',\n",
       "       'radius error', 'texture error', 'perimeter error', 'area error',\n",
       "       'smoothness error', 'compactness error', 'concavity error',\n",
       "       'concave points error', 'symmetry error',\n",
       "       'fractal dimension error', 'worst radius', 'worst texture',\n",
       "       'worst perimeter', 'worst area', 'worst smoothness',\n",
       "       'worst compactness', 'worst concavity', 'worst concave points',\n",
       "       'worst symmetry', 'worst fractal dimension'], dtype='<U23')"
      ]
     },
     "execution_count": 285,
     "metadata": {},
     "output_type": "execute_result"
    }
   ],
   "source": [
    "cancer.feature_names"
   ]
  },
  {
   "cell_type": "code",
   "execution_count": 286,
   "metadata": {},
   "outputs": [],
   "source": [
    "X_train, X_test, y_train, y_test = train_test_split(X, y, test_size=0.3, random_state=42)"
   ]
  },
  {
   "cell_type": "code",
   "execution_count": 287,
   "metadata": {},
   "outputs": [
    {
     "name": "stdout",
     "output_type": "stream",
     "text": [
      "Iteration 0: Cost 0.6739897532836504\n",
      "Iteration 100: Cost 0.25495617762986306\n",
      "Iteration 200: Cost 0.19421208439233917\n",
      "Iteration 300: Cost 0.16659753625953247\n",
      "Iteration 400: Cost 0.1501586875841275\n",
      "Iteration 500: Cost 0.13900252963669701\n",
      "Iteration 600: Cost 0.13080608884258324\n",
      "Iteration 700: Cost 0.12445646707363685\n",
      "Iteration 800: Cost 0.11934897965320337\n",
      "Iteration 900: Cost 0.11512416454044398\n",
      "Iteration 1000: Cost 0.11155338223833636\n",
      "Iteration 1100: Cost 0.10848334740869639\n",
      "Iteration 1200: Cost 0.10580688987975204\n",
      "Iteration 1300: Cost 0.10344647986159089\n",
      "Iteration 1400: Cost 0.10134442551579984\n",
      "Iteration 1500: Cost 0.09945676976738027\n",
      "Iteration 1600: Cost 0.09774934168042516\n",
      "Iteration 1700: Cost 0.09619511650653972\n",
      "Iteration 1800: Cost 0.09477239988445235\n",
      "Iteration 1900: Cost 0.09346354765082919\n",
      "Iteration 2000: Cost 0.09225404348668816\n",
      "Iteration 2100: Cost 0.0911318215322389\n",
      "Iteration 2200: Cost 0.09008676037729729\n",
      "Iteration 2300: Cost 0.08911029928640998\n",
      "Iteration 2400: Cost 0.08819514313638334\n",
      "Iteration 2500: Cost 0.0873350327532251\n",
      "Iteration 2600: Cost 0.0865245641500381\n",
      "Iteration 2700: Cost 0.08575904480330737\n",
      "Iteration 2800: Cost 0.08503437831402068\n",
      "Iteration 2900: Cost 0.0843469710568989\n",
      "Iteration 3000: Cost 0.08369365603151863\n",
      "Iteration 3100: Cost 0.08307163029390564\n",
      "Iteration 3200: Cost 0.08247840320010556\n",
      "Iteration 3300: Cost 0.08191175332499351\n",
      "Iteration 3400: Cost 0.08136969239250874\n",
      "Iteration 3500: Cost 0.0808504349110404\n",
      "Iteration 3600: Cost 0.08035237248048745\n",
      "Iteration 3700: Cost 0.07987405194745353\n",
      "Iteration 3800: Cost 0.07941415674789538\n",
      "Iteration 3900: Cost 0.07897149090384092\n",
      "Iteration 4000: Cost 0.07854496524099122\n",
      "Iteration 4100: Cost 0.078133585473423\n",
      "Iteration 4200: Cost 0.07773644186491871\n",
      "Iteration 4300: Cost 0.07735270022723788\n",
      "Iteration 4400: Cost 0.07698159405660465\n",
      "Iteration 4500: Cost 0.07662241764290753\n",
      "Iteration 4600: Cost 0.07627452001317858\n",
      "Iteration 4700: Cost 0.07593729959309052\n",
      "Iteration 4800: Cost 0.07561019948845009\n",
      "Iteration 4900: Cost 0.0752927033037342\n",
      "Iteration 5000: Cost 0.07498433142721979\n",
      "Iteration 5100: Cost 0.07468463772267225\n",
      "Iteration 5200: Cost 0.074393206576265\n",
      "Iteration 5300: Cost 0.07410965025471022\n",
      "Iteration 5400: Cost 0.0738336065367346\n",
      "Iteration 5500: Cost 0.07356473658523302\n",
      "Iteration 5600: Cost 0.07330272303183906\n",
      "Iteration 5700: Cost 0.07304726824940015\n",
      "Iteration 5800: Cost 0.07279809279103838\n",
      "Iteration 5900: Cost 0.07255493397721274\n",
      "Iteration 6000: Cost 0.07231754461454058\n",
      "Iteration 6100: Cost 0.07208569183215195\n",
      "Iteration 6200: Cost 0.071859156023088\n",
      "Iteration 6300: Cost 0.07163772987975489\n",
      "Iteration 6400: Cost 0.07142121751374712\n",
      "Iteration 6500: Cost 0.07120943365148141\n",
      "Iteration 6600: Cost 0.07100220289806722\n",
      "Iteration 6700: Cost 0.07079935906269544\n",
      "Iteration 6800: Cost 0.07060074453957711\n",
      "Iteration 6900: Cost 0.07040620973912053\n",
      "Iteration 7000: Cost 0.07021561256460933\n",
      "Iteration 7100: Cost 0.0700288179301521\n",
      "Iteration 7200: Cost 0.0698456973161192\n",
      "Iteration 7300: Cost 0.0696661283586766\n",
      "Iteration 7400: Cost 0.0694899944703735\n",
      "Iteration 7500: Cost 0.06931718448904961\n",
      "Iteration 7600: Cost 0.0691475923526015\n",
      "Iteration 7700: Cost 0.06898111679738884\n",
      "Iteration 7800: Cost 0.06881766107827862\n",
      "Iteration 7900: Cost 0.06865713270851823\n",
      "Iteration 8000: Cost 0.06849944321779997\n",
      "Iteration 8100: Cost 0.06834450792703163\n",
      "Iteration 8200: Cost 0.06819224573846842\n",
      "Iteration 8300: Cost 0.06804257893998278\n",
      "Iteration 8400: Cost 0.06789543302235981\n",
      "Iteration 8500: Cost 0.06775073650860443\n",
      "Iteration 8600: Cost 0.06760842079434012\n",
      "Iteration 8700: Cost 0.06746841999845263\n",
      "Iteration 8800: Cost 0.06733067082321358\n",
      "Iteration 8900: Cost 0.0671951124231755\n",
      "Iteration 9000: Cost 0.06706168628219869\n",
      "Iteration 9100: Cost 0.0669303360980152\n",
      "Iteration 9200: Cost 0.06680100767379137\n",
      "Iteration 9300: Cost 0.06667364881619052\n",
      "Iteration 9400: Cost 0.06654820923947846\n",
      "Iteration 9500: Cost 0.06642464047525198\n",
      "Iteration 9600: Cost 0.06630289578740353\n",
      "Iteration 9700: Cost 0.06618293009196448\n",
      "Iteration 9800: Cost 0.06606469988149881\n",
      "Iteration 9900: Cost 0.06594816315374386\n",
      "Iteration 10000: Cost 0.06583327934421582\n",
      "Iteration 10100: Cost 0.06572000926252339\n",
      "Iteration 10200: Cost 0.06560831503214674\n",
      "Iteration 10300: Cost 0.06549816003346172\n",
      "Iteration 10400: Cost 0.06538950884980199\n",
      "Iteration 10500: Cost 0.06528232721636858\n",
      "Iteration 10600: Cost 0.06517658197180955\n",
      "Iteration 10700: Cost 0.0650722410123047\n",
      "Iteration 10800: Cost 0.0649692732480029\n",
      "Iteration 10900: Cost 0.06486764856166875\n",
      "Iteration 11000: Cost 0.0647673377694072\n",
      "Iteration 11100: Cost 0.06466831258334163\n",
      "Iteration 11200: Cost 0.06457054557613087\n",
      "Iteration 11300: Cost 0.064474010147218\n",
      "Iteration 11400: Cost 0.06437868049071065\n",
      "Iteration 11500: Cost 0.06428453156479912\n",
      "Iteration 11600: Cost 0.0641915390626254\n",
      "Iteration 11700: Cost 0.0640996793845212\n",
      "Iteration 11800: Cost 0.06400892961153883\n",
      "Iteration 11900: Cost 0.0639192674802027\n",
      "Iteration 12000: Cost 0.06383067135841587\n",
      "Iteration 12100: Cost 0.06374312022245748\n",
      "Iteration 12200: Cost 0.0636565936350134\n",
      "Iteration 12300: Cost 0.06357107172418375\n",
      "Iteration 12400: Cost 0.06348653516341661\n",
      "Iteration 12500: Cost 0.06340296515231923\n",
      "Iteration 12600: Cost 0.06332034339829923\n",
      "Iteration 12700: Cost 0.06323865209899608\n",
      "Iteration 12800: Cost 0.06315787392545881\n",
      "Iteration 12900: Cost 0.06307799200603569\n",
      "Iteration 13000: Cost 0.06299898991093603\n",
      "Iteration 13100: Cost 0.06292085163743442\n",
      "Iteration 13200: Cost 0.06284356159568229\n",
      "Iteration 13300: Cost 0.06276710459509911\n",
      "Iteration 13400: Cost 0.06269146583131387\n",
      "Iteration 13500: Cost 0.06261663087363029\n",
      "Iteration 13600: Cost 0.0625425856529908\n",
      "Iteration 13700: Cost 0.06246931645041573\n",
      "Iteration 13800: Cost 0.06239680988589442\n",
      "Iteration 13900: Cost 0.062325052907708185\n",
      "Iteration 14000: Cost 0.062254032782163744\n",
      "Iteration 14100: Cost 0.06218373708371914\n",
      "Iteration 14200: Cost 0.06211415368548392\n",
      "Iteration 14300: Cost 0.06204527075007591\n",
      "Iteration 14400: Cost 0.06197707672081933\n",
      "Iteration 14500: Cost 0.06190956031326862\n",
      "Iteration 14600: Cost 0.06184271050704292\n",
      "Iteration 14700: Cost 0.06177651653795861\n",
      "Iteration 14800: Cost 0.061710967890445834\n",
      "Iteration 14900: Cost 0.06164605429023687\n",
      "Iteration 15000: Cost 0.06158176569731498\n",
      "Iteration 15100: Cost 0.06151809229911205\n",
      "Iteration 15200: Cost 0.061455024503945355\n",
      "Iteration 15300: Cost 0.06139255293468137\n",
      "Iteration 15400: Cost 0.06133066842261974\n",
      "Iteration 15500: Cost 0.061269362001585864\n",
      "Iteration 15600: Cost 0.0612086249022249\n",
      "Iteration 15700: Cost 0.0611484485464886\n",
      "Iteration 15800: Cost 0.061088824542306436\n",
      "Iteration 15900: Cost 0.06102974467843467\n",
      "Iteration 16000: Cost 0.06097120091947517\n",
      "Iteration 16100: Cost 0.060913185401057945\n",
      "Iteration 16200: Cost 0.0608556904251808\n",
      "Iteration 16300: Cost 0.060798708455698784\n",
      "Iteration 16400: Cost 0.06074223211395971\n",
      "Iteration 16500: Cost 0.060686254174578576\n",
      "Iteration 16600: Cost 0.060630767561344945\n",
      "Iteration 16700: Cost 0.06057576534326079\n",
      "Iteration 16800: Cost 0.06052124073070019\n",
      "Iteration 16900: Cost 0.060467187071690326\n",
      "Iteration 17000: Cost 0.06041359784830567\n",
      "Iteration 17100: Cost 0.06036046667317315\n",
      "Iteration 17200: Cost 0.060307787286083894\n",
      "Iteration 17300: Cost 0.06025555355070778\n",
      "Iteration 17400: Cost 0.06020375945140556\n",
      "Iteration 17500: Cost 0.06015239909013792\n",
      "Iteration 17600: Cost 0.06010146668346495\n",
      "Iteration 17700: Cost 0.060050956559635\n",
      "Iteration 17800: Cost 0.06000086315575907\n",
      "Iteration 17900: Cost 0.059951181015066704\n",
      "Iteration 18000: Cost 0.05990190478424317\n",
      "Iteration 18100: Cost 0.059853029210841756\n",
      "Iteration 18200: Cost 0.059804549140771705\n",
      "Iteration 18300: Cost 0.05975645951585716\n",
      "Iteration 18400: Cost 0.05970875537146589\n",
      "Iteration 18500: Cost 0.059661431834204935\n",
      "Iteration 18600: Cost 0.0596144841196809\n",
      "Iteration 18700: Cost 0.059567907530323476\n",
      "Iteration 18800: Cost 0.05952169745326902\n",
      "Iteration 18900: Cost 0.059475849358303856\n",
      "Iteration 19000: Cost 0.05943035879586334\n",
      "Iteration 19100: Cost 0.059385221395086875\n",
      "Iteration 19200: Cost 0.05934043286192617\n",
      "Iteration 19300: Cost 0.05929598897730448\n",
      "Iteration 19400: Cost 0.05925188559532756\n",
      "Iteration 19500: Cost 0.05920811864154166\n",
      "Iteration 19600: Cost 0.05916468411123969\n",
      "Iteration 19700: Cost 0.05912157806781237\n",
      "Iteration 19800: Cost 0.05907879664114499\n",
      "Iteration 19900: Cost 0.05903633602605571\n",
      "Iteration 20000: Cost 0.05899419248077713\n",
      "Iteration 20100: Cost 0.05895236232547777\n",
      "Iteration 20200: Cost 0.05891084194082291\n",
      "Iteration 20300: Cost 0.05886962776657484\n",
      "Iteration 20400: Cost 0.058828716300229025\n",
      "Iteration 20500: Cost 0.05878810409568764\n",
      "Iteration 20600: Cost 0.05874778776196777\n",
      "Iteration 20700: Cost 0.058707763961944444\n",
      "Iteration 20800: Cost 0.05866802941112658\n",
      "Iteration 20900: Cost 0.05862858087646543\n",
      "Iteration 21000: Cost 0.058589415175195385\n",
      "Iteration 21100: Cost 0.058550529173704687\n",
      "Iteration 21200: Cost 0.05851191978643652\n",
      "Iteration 21300: Cost 0.05847358397481935\n",
      "Iteration 21400: Cost 0.05843551874622553\n",
      "Iteration 21500: Cost 0.058397721152957945\n",
      "Iteration 21600: Cost 0.058360188291263236\n",
      "Iteration 21700: Cost 0.058322917300371646\n",
      "Iteration 21800: Cost 0.05828590536156256\n",
      "Iteration 21900: Cost 0.05824914969725437\n",
      "Iteration 22000: Cost 0.05821264757012017\n",
      "Iteration 22100: Cost 0.05817639628222529\n",
      "Iteration 22200: Cost 0.05814039317418978\n",
      "Iteration 22300: Cost 0.05810463562437176\n",
      "Iteration 22400: Cost 0.058069121048075004\n",
      "Iteration 22500: Cost 0.05803384689677511\n",
      "Iteration 22600: Cost 0.05799881065736959\n",
      "Iteration 22700: Cost 0.057964009851446\n",
      "Iteration 22800: Cost 0.05792944203457115\n",
      "Iteration 22900: Cost 0.0578951047955996\n",
      "Iteration 23000: Cost 0.0578609957560006\n",
      "Iteration 23100: Cost 0.057827112569204156\n",
      "Iteration 23200: Cost 0.057793452919964246\n",
      "Iteration 23300: Cost 0.05776001452374015\n",
      "Iteration 23400: Cost 0.05772679512609452\n",
      "Iteration 23500: Cost 0.05769379250210836\n",
      "Iteration 23600: Cost 0.05766100445581166\n",
      "Iteration 23700: Cost 0.057628428819630505\n",
      "Iteration 23800: Cost 0.05759606345384878\n",
      "Iteration 23900: Cost 0.05756390624608539\n",
      "Iteration 24000: Cost 0.05753195511078568\n",
      "Iteration 24100: Cost 0.05750020798872733\n",
      "Iteration 24200: Cost 0.05746866284653958\n",
      "Iteration 24300: Cost 0.0574373176762362\n",
      "Iteration 24400: Cost 0.057406170494761585\n",
      "Iteration 24500: Cost 0.05737521934354877\n",
      "Iteration 24600: Cost 0.05734446228809063\n",
      "Iteration 24700: Cost 0.057313897417522935\n",
      "Iteration 24800: Cost 0.05728352284421802\n",
      "Iteration 24900: Cost 0.05725333670339072\n",
      "Iteration 25000: Cost 0.05722333715271552\n",
      "Iteration 25100: Cost 0.057193522371953\n",
      "Iteration 25200: Cost 0.05716389056258751\n",
      "Iteration 25300: Cost 0.057134439947475246\n",
      "Iteration 25400: Cost 0.05710516877050036\n",
      "Iteration 25500: Cost 0.05707607529624213\n",
      "Iteration 25600: Cost 0.05704715780965082\n",
      "Iteration 25700: Cost 0.05701841461573118\n",
      "Iteration 25800: Cost 0.05698984403923614\n",
      "Iteration 25900: Cost 0.05696144442436724\n",
      "Iteration 26000: Cost 0.0569332141344842\n",
      "Iteration 26100: Cost 0.05690515155182139\n",
      "Iteration 26200: Cost 0.056877255077212065\n",
      "Iteration 26300: Cost 0.056849523129819605\n",
      "Iteration 26400: Cost 0.05682195414687584\n",
      "Iteration 26500: Cost 0.05679454658342588\n",
      "Iteration 26600: Cost 0.056767298912079635\n",
      "Iteration 26700: Cost 0.05674020962276941\n",
      "Iteration 26800: Cost 0.05671327722251325\n",
      "Iteration 26900: Cost 0.056686500235184754\n",
      "Iteration 27000: Cost 0.056659877201287324\n",
      "Iteration 27100: Cost 0.05663340667773505\n",
      "Iteration 27200: Cost 0.056607087237637826\n",
      "Iteration 27300: Cost 0.0565809174700918\n",
      "Iteration 27400: Cost 0.05655489597997441\n",
      "Iteration 27500: Cost 0.056529021387744446\n",
      "Iteration 27600: Cost 0.05650329232924567\n",
      "Iteration 27700: Cost 0.05647770745551557\n",
      "Iteration 27800: Cost 0.056452265432597876\n",
      "Iteration 27900: Cost 0.05642696494135829\n",
      "Iteration 28000: Cost 0.0564018046773055\n",
      "Iteration 28100: Cost 0.05637678335041404\n",
      "Iteration 28200: Cost 0.05635189968495182\n",
      "Iteration 28300: Cost 0.0563271524193108\n",
      "Iteration 28400: Cost 0.05630254030584002\n",
      "Iteration 28500: Cost 0.056278062110683084\n",
      "Iteration 28600: Cost 0.056253716613617076\n",
      "Iteration 28700: Cost 0.05622950260789557\n",
      "Iteration 28800: Cost 0.0562054189000934\n",
      "Iteration 28900: Cost 0.05618146430995458\n",
      "Iteration 29000: Cost 0.05615763767024236\n",
      "Iteration 29100: Cost 0.05613393782659209\n",
      "Iteration 29200: Cost 0.05611036363736576\n",
      "Iteration 29300: Cost 0.05608691397350945\n",
      "Iteration 29400: Cost 0.05606358771841228\n",
      "Iteration 29500: Cost 0.05604038376776738\n",
      "Iteration 29600: Cost 0.056017301029435716\n",
      "Iteration 29700: Cost 0.05599433842331075\n",
      "Iteration 29800: Cost 0.055971494881184886\n",
      "Iteration 29900: Cost 0.055948769346618646\n",
      "Logistic Regression Weights: [-0.41231788 -0.50085284 -0.36732485 -0.49865807 -0.21643413  0.68851684\n",
      " -0.89048287 -1.14650319  0.23117651  0.2856486  -1.41919598  0.13785814\n",
      " -0.81377156 -0.99849199 -0.18126309  0.88221003 -0.18660461 -0.48659014\n",
      "  0.54601094  0.74050771 -0.94169627 -1.43014709 -0.69525156 -0.91988307\n",
      " -0.71912756  0.12400278 -1.14771064 -1.01300048 -1.36843732 -0.08971441]\n",
      "Logistic Regression Bias: 0.4221912530036993\n"
     ]
    }
   ],
   "source": [
    "# Define the logistic regression model\n",
    "logistic_model = lm.LogisticRegression(\n",
    "    iterations=30000, \n",
    "    learning_rate=0.01, \n",
    "    dim=X_train.shape[1], \n",
    "    reg_var=0.1, \n",
    "    epsilon=1e-8, \n",
    "    threshold=0.5\n",
    ")\n",
    "\n",
    "# Fit the model on the training data with normalization\n",
    "cost_history_logistic = logistic_model.fit(X_train, y_train, normalize=True)\n",
    "\n",
    "# Print the learned weights and bias\n",
    "print(\"Logistic Regression Weights:\", logistic_model.w)\n",
    "print(\"Logistic Regression Bias:\", logistic_model.b)\n",
    "\n",
    "# Make predictions on the test set\n",
    "y_pred = logistic_model.predict(X_test)"
   ]
  },
  {
   "cell_type": "code",
   "execution_count": 288,
   "metadata": {},
   "outputs": [
    {
     "name": "stdout",
     "output_type": "stream",
     "text": [
      "Accuracy: 0.9824561403508771\n",
      "Classification Report:\n",
      "              precision    recall  f1-score   support\n",
      "\n",
      "           0       0.97      0.98      0.98        63\n",
      "           1       0.99      0.98      0.99       108\n",
      "\n",
      "    accuracy                           0.98       171\n",
      "   macro avg       0.98      0.98      0.98       171\n",
      "weighted avg       0.98      0.98      0.98       171\n",
      "\n"
     ]
    }
   ],
   "source": [
    "from sklearn.metrics import accuracy_score, classification_report\n",
    "\n",
    "accuracy = accuracy_score(y_test, y_pred)\n",
    "report = classification_report(y_test, y_pred)\n",
    "\n",
    "print(f\"Accuracy: {accuracy}\")\n",
    "print(f\"Classification Report:\\n{report}\")"
   ]
  },
  {
   "cell_type": "code",
   "execution_count": 289,
   "metadata": {},
   "outputs": [
    {
     "data": {
      "image/png": "[encoded data removed]",
      "text/plain": [
       "<Figure size 640x480 with 1 Axes>"
      ]
     },
     "metadata": {},
     "output_type": "display_data"
    }
   ],
   "source": [
    "plt.plot(cost_history_logistic)\n",
    "plt.xlabel(\"Iterations\")\n",
    "plt.ylabel(\"Cost\")\n",
    "plt.title(\"Logistic Regression Cost History\")\n",
    "plt.show()"
   ]
  }
 ],
 "metadata": {
  "kernelspec": {
   "display_name": "Python 3",
   "language": "python",
   "name": "python3"
  },
  "language_info": {
   "codemirror_mode": {
    "name": "ipython",
    "version": 3
   },
   "file_extension": ".py",
   "mimetype": "text/x-python",
   "name": "python",
   "nbconvert_exporter": "python",
   "pygments_lexer": "ipython3",
   "version": "3.12.5"
  }
 },
 "nbformat": 4,
 "nbformat_minor": 2
}
